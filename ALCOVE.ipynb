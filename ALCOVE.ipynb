{
 "cells": [
  {
   "cell_type": "code",
   "execution_count": 1,
   "metadata": {
    "collapsed": false
   },
   "outputs": [],
   "source": [
    "require 'nn';\n",
    "require 'Attention';\n",
    "require 'Association';\n",
    "require 'image';\n",
    "require 'gnuplot';"
   ]
  },
  {
   "cell_type": "markdown",
   "metadata": {},
   "source": [
    "# Data Preparation "
   ]
  },
  {
   "cell_type": "code",
   "execution_count": 2,
   "metadata": {
    "collapsed": false
   },
   "outputs": [],
   "source": [
    "--Three Categories: \n",
    "-- 1=Big/0=Small; 1=Rectangle/0=Triangle; 1=Black/0=White\n",
    "data = torch.Tensor(8,3)\n",
    "data[1] = torch.Tensor({1,1,1})\n",
    "data[2] = torch.Tensor({0,1,1})\n",
    "data[3] = torch.Tensor({1,0,1})\n",
    "data[4] = torch.Tensor({1,1,0})\n",
    "data[5] = torch.Tensor({0,0,1})\n",
    "data[6] = torch.Tensor({1,0,0})\n",
    "data[7] = torch.Tensor({0,1,0})\n",
    "data[8] = torch.Tensor({0,0,0})\n",
    "\n",
    "alcove = nn.Sequential()\n",
    "attention = nn.Attention(3, 8, data, 6.5, 1,1)\n",
    "association = nn.Association(2,8)\n",
    "\n",
    "alcove:add(attention)\n",
    "alcove:add(association)\n"
   ]
  },
  {
   "cell_type": "code",
   "execution_count": 3,
   "metadata": {
    "collapsed": false,
    "scrolled": false
   },
   "outputs": [],
   "source": [
    "percentages = torch.Tensor(50)\n",
    "target = torch.Tensor(2)\n",
    "for i = 1,50 do\n",
    "    correct = 0\n",
    "    for j = 1,8 do\n",
    "        out = alcove:forward(data[j])\n",
    "        if data[j][1] == 1 then\n",
    "            target[1] = math.max(1,out[1])\n",
    "            target[2] = math.min(-1,out[2])\n",
    "            if out[1] > out[2] then\n",
    "                correct = correct + 1\n",
    "            end\n",
    "        else\n",
    "            target[1] = math.min(-1,out[1])\n",
    "            target[2] = math.max(1,out[2])\n",
    "            if out[1] < out[2] then\n",
    "                correct = correct + 1\n",
    "            end\n",
    "        end\n",
    "        \n",
    "        alcove:backward(data[j],target-out)\n",
    "    end\n",
    "    percentages[i] = correct/8\n",
    "    --print(attention.alphas)\n",
    "    --print(association.weights)\n",
    "    attention:updateParameters(0.0033)\n",
    "    association:updateParameters(0.03)\n",
    "    alcove:zeroGradParameters()\n",
    "end\n",
    "gnuplot.plot(percentages)"
   ]
  },
  {
   "cell_type": "code",
   "execution_count": 5,
   "metadata": {
    "collapsed": false
   },
   "outputs": [
    {
     "data": {
      "text/plain": [
       " 587.5498\n",
       "-587.5498\n",
       "[torch.DoubleTensor of size 2]\n",
       "\n"
      ]
     },
     "execution_count": 5,
     "metadata": {},
     "output_type": "execute_result"
    }
   ],
   "source": [
    "a_out = alcove:forward(data[1])\n",
    "probability = torch.div(torch.mul(a_out,2.0):exp(),torch.sum(torch.mul(a_out,2.0):exp()))\n",
    "print(a_out)"
   ]
  },
  {
   "cell_type": "code",
   "execution_count": null,
   "metadata": {
    "collapsed": false
   },
   "outputs": [],
   "source": [
    "print(math.exp(10))"
   ]
  },
  {
   "cell_type": "code",
   "execution_count": null,
   "metadata": {
    "collapsed": true
   },
   "outputs": [],
   "source": []
  }
 ],
 "metadata": {
  "kernelspec": {
   "display_name": "iTorch",
   "language": "lua",
   "name": "itorch"
  },
  "language_info": {
   "name": "lua",
   "version": "20100"
  }
 },
 "nbformat": 4,
 "nbformat_minor": 0
}
