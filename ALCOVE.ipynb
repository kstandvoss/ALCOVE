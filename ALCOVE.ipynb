{
 "cells": [
  {
   "cell_type": "code",
   "execution_count": 1,
   "metadata": {
    "collapsed": false
   },
   "outputs": [],
   "source": [
    "require 'nn';\n",
    "require 'Attention';\n",
    "require 'Association';\n",
    "require 'image';\n",
    "require 'gnuplot';"
   ]
  },
  {
   "cell_type": "markdown",
   "metadata": {},
   "source": [
    "# Data Preparation "
   ]
  },
  {
   "cell_type": "code",
   "execution_count": 2,
   "metadata": {
    "collapsed": false
   },
   "outputs": [],
   "source": [
    "-- Three Dimensions\n",
    "-- 1=Big/0=Small; 1=Rectangle/0=Triangle; 1=Black/0=White\n",
    "-- Differentiation between exemplars and category types would be useful\n",
    "exemplar = torch.Tensor(8,3)\n",
    "exemplar[1] = torch.Tensor({1,1,1})\n",
    "exemplar[2] = torch.Tensor({0,1,1})\n",
    "exemplar[3] = torch.Tensor({1,0,1})\n",
    "exemplar[4] = torch.Tensor({1,1,0})\n",
    "exemplar[5] = torch.Tensor({0,0,1})\n",
    "exemplar[6] = torch.Tensor({1,0,0})\n",
    "exemplar[7] = torch.Tensor({0,1,0})\n",
    "exemplar[8] = torch.Tensor({0,0,0})\n",
    "\n",
    "-- define white exemplars for every category type which can hopefully be used as logical indexes\n",
    "-- See Kruschke 1992, Fig. 4 for this\n",
    "category = torch.Tensor(6, 8)\n",
    "category[1] = torch.Tensor({0, 1, 0, 0, 1, 0, 1, 1})\n",
    "category[2] = torch.Tensor({1, 0, 0, 1, 1, 0, 0, 1})\n",
    "category[3] = torch.Tensor({1, 0, 0, 0, 1, 0, 1, 1})\n",
    "category[4] = torch.Tensor({0, 0, 0, 0, 1, 1, 1, 1})\n",
    "category[5] = torch.Tensor({1, 0, 0, 0, 1, 0, 1, 1})\n",
    "category[6] = torch.Tensor({0, 1, 1, 1, 0, 0, 0, 1})\n",
    "\n"
   ]
  },
  {
   "cell_type": "markdown",
   "metadata": {},
   "source": [
    "# Training"
   ]
  },
  {
   "cell_type": "code",
   "execution_count": 6,
   "metadata": {
    "collapsed": false,
    "scrolled": true
   },
   "outputs": [],
   "source": [
    "probabilities = torch.Tensor(6,50,8,2)\n",
    "target = torch.Tensor(2)\n",
    "prob_corr = torch.Tensor(6, 50, 8)\n",
    "\n",
    "-- For each category type\n",
    "for l = 1,6 do\n",
    "    -- initializeNetwork()\n",
    "    alcove = nn.Sequential()\n",
    "    attention = nn.Attention(3, 8, exemplar, 6.5, 1,1)\n",
    "    association = nn.Association(2,8)\n",
    "    alcove:add(attention)\n",
    "    alcove:add(association)\n",
    "\n",
    "    -- Over 50 epochs\n",
    "    for i = 1,50 do\n",
    "        -- For each training exemplar\n",
    "        for j = 1,8 do\n",
    "            a_out = alcove:forward(exemplar[j]) -- forward activation\n",
    "            probabilities[l][i][j][1] = (math.exp(a_out[1]*2.0))/torch.sum(torch.mul(a_out,2.0):exp())\n",
    "            probabilities[l][i][j][2] = (math.exp(a_out[2]*2.0))/torch.sum(torch.mul(a_out,2.0):exp())\n",
    "            if category[l][j] == 1  then \n",
    "                target[1] = math.max(1, a_out[1])\n",
    "                target[2] = math.min(-1,a_out[2])\n",
    "                prob_corr[l][i] = probabilities[l][i][j][1] \n",
    "            else\n",
    "                target[1] = math.min(-1, a_out[1])\n",
    "                target[2] = math.max(1, a_out[2])\n",
    "                prob_corr[l][i] = probabilities[l][i][j][2]\n",
    "            end\n",
    "            alcove:backward(exemplar[j],target-a_out)\n",
    "        end\n",
    "        attention:updateParameters(-0.0033) -- Why negative?\n",
    "        association:updateParameters(0.03)\n",
    "        alcove:zeroGradParameters()\n",
    "        -- print(probabilities[l][i][1][1])\n",
    "    end\n",
    "    -- For whatever reason output isn't working properly\n",
    "    -- x = torch.linspace(1,50,50)\n",
    "    -- gnuplot.plot(x, probabilities[l][x][1][1])\n",
    "\n",
    "end"
   ]
  },
  {
   "cell_type": "code",
   "execution_count": 10,
   "metadata": {
    "collapsed": false
   },
   "outputs": [
    {
     "data": {
      "text/plain": [
       "4,9026285591407e-262\t\n",
       "0,50000005199227\t\n"
      ]
     },
     "execution_count": 10,
     "metadata": {},
     "output_type": "execute_result"
    }
   ],
   "source": [
    "print(prob_corr[1] [49] [1])\n",
    "print(torch.mean(prob_corr[3][43]))\n",
    "\n",
    "-- x = torch.linspace(1,50,50)\n",
    "-- gnuplot.plot(x, probabilities[1][1:2][1][1])"
   ]
  }
 ],
 "metadata": {
  "kernelspec": {
   "display_name": "iTorch",
   "language": "lua",
   "name": "itorch"
  },
  "language_info": {
   "name": "lua",
   "version": "20100"
  }
 },
 "nbformat": 4,
 "nbformat_minor": 0
}
