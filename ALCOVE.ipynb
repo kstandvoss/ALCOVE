{
 "cells": [
  {
   "cell_type": "code",
   "execution_count": 1,
   "metadata": {
    "collapsed": false
   },
   "outputs": [],
   "source": [
    "require 'nn';\n",
    "require 'Attention';\n",
    "require 'Association';\n",
    "require 'image';\n",
    "require 'gnuplot';"
   ]
  },
  {
   "cell_type": "markdown",
   "metadata": {},
   "source": [
    "# Data Preparation "
   ]
  },
  {
   "cell_type": "code",
   "execution_count": 2,
   "metadata": {
    "collapsed": false
   },
   "outputs": [],
   "source": [
    "--Three Categories: \n",
    "-- 1=Big/0=Small; 1=Rectangle/0=Triangle; 1=Black/0=White\n",
    "data = torch.Tensor(8,3)\n",
    "data[1] = torch.Tensor({1,1,1})\n",
    "data[2] = torch.Tensor({0,1,1})\n",
    "data[3] = torch.Tensor({1,0,1})\n",
    "data[4] = torch.Tensor({1,1,0})\n",
    "data[5] = torch.Tensor({0,0,1})\n",
    "data[6] = torch.Tensor({1,0,0})\n",
    "data[7] = torch.Tensor({0,1,0})\n",
    "data[8] = torch.Tensor({0,0,0})\n",
    "\n",
    "alcove = nn.Sequential()\n",
    "attention = nn.Attention(3, 8, data, 6.5, 1,1)\n",
    "association = nn.Association(2,8)\n",
    "\n",
    "alcove:add(attention)\n",
    "alcove:add(association)\n"
   ]
  },
  {
   "cell_type": "markdown",
   "metadata": {},
   "source": [
    "# Training"
   ]
  },
  {
   "cell_type": "code",
   "execution_count": 3,
   "metadata": {
    "collapsed": false,
    "scrolled": true
   },
   "outputs": [],
   "source": [
    "probabilities = torch.Tensor(50)\n",
    "target = torch.Tensor(2)\n",
    "k = 1\n",
    "for i = 1,50 do\n",
    "    for j = 1,8 do\n",
    "        a_out = alcove:forward(data[(j+i)%8 + 1])\n",
    "        if data[(j+i)%8 +1][1] == 1  then\n",
    "            target[1] = math.max(1,a_out[1])\n",
    "            target[2] = math.min(-1,a_out[2])\n",
    "            if j == 2 then\n",
    "                probabilities[k] = (math.exp(a_out[2]*2.0))/torch.sum(torch.mul(a_out,2.0):exp())\n",
    "                k = k+1\n",
    "            end    \n",
    "        else\n",
    "            target[1] = math.min(-1,a_out[1])\n",
    "            target[2] = math.max(1,a_out[2])\n",
    "            if j == 2 then\n",
    "                probabilities[k] = (math.exp(a_out[1]*2.0))/torch.sum(torch.mul(a_out,2.0):exp())\n",
    "                k = k+1\n",
    "            end\n",
    "        end\n",
    "        alcove:backward(data[(j+i)%8 + 1],target-a_out)\n",
    "    end\n",
    "    attention:updateParameters(-0.0033)\n",
    "    association:updateParameters(0.03)\n",
    "    alcove:zeroGradParameters()\n",
    "end\n",
    "gnuplot.plot(probabilities)"
   ]
  },
  {
   "cell_type": "code",
   "execution_count": null,
   "metadata": {
    "collapsed": false
   },
   "outputs": [],
   "source": []
  },
  {
   "cell_type": "code",
   "execution_count": null,
   "metadata": {
    "collapsed": true
   },
   "outputs": [],
   "source": []
  }
 ],
 "metadata": {
  "kernelspec": {
   "display_name": "iTorch",
   "language": "lua",
   "name": "itorch"
  },
  "language_info": {
   "name": "lua",
   "version": "20100"
  }
 },
 "nbformat": 4,
 "nbformat_minor": 0
}
